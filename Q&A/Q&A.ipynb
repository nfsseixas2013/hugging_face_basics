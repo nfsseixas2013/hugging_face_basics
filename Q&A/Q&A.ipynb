{
 "cells": [
  {
   "cell_type": "code",
   "execution_count": 1,
   "id": "5e69562b-1d33-4821-946a-560d842fac2f",
   "metadata": {},
   "outputs": [
    {
     "name": "stderr",
     "output_type": "stream",
     "text": [
      "/home/nilton/Arquivos/NLP-projects/hugging_face_basics/.venv/lib/python3.8/site-packages/tqdm/auto.py:21: TqdmWarning: IProgress not found. Please update jupyter and ipywidgets. See https://ipywidgets.readthedocs.io/en/stable/user_install.html\n",
      "  from .autonotebook import tqdm as notebook_tqdm\n",
      "2023-08-20 12:39:24.888926: I tensorflow/tsl/cuda/cudart_stub.cc:28] Could not find cuda drivers on your machine, GPU will not be used.\n",
      "2023-08-20 12:39:29.617251: I tensorflow/tsl/cuda/cudart_stub.cc:28] Could not find cuda drivers on your machine, GPU will not be used.\n",
      "2023-08-20 12:39:29.635957: I tensorflow/core/platform/cpu_feature_guard.cc:182] This TensorFlow binary is optimized to use available CPU instructions in performance-critical operations.\n",
      "To enable the following instructions: AVX2 FMA, in other operations, rebuild TensorFlow with the appropriate compiler flags.\n",
      "2023-08-20 12:39:35.177049: W tensorflow/compiler/tf2tensorrt/utils/py_utils.cc:38] TF-TRT Warning: Could not find TensorRT\n"
     ]
    }
   ],
   "source": [
    "from transformers import pipeline"
   ]
  },
  {
   "cell_type": "code",
   "execution_count": 2,
   "id": "c90f8853-6ea2-4cbb-906f-3c71abd1814f",
   "metadata": {},
   "outputs": [
    {
     "name": "stderr",
     "output_type": "stream",
     "text": [
      "No model was supplied, defaulted to distilbert-base-cased-distilled-squad and revision 626af31 (https://huggingface.co/distilbert-base-cased-distilled-squad).\n",
      "Using a pipeline without specifying a model name and revision in production is not recommended.\n",
      "2023-08-20 12:39:45.847336: E tensorflow/compiler/xla/stream_executor/cuda/cuda_driver.cc:268] failed call to cuInit: CUDA_ERROR_NO_DEVICE: no CUDA-capable device is detected\n",
      "All PyTorch model weights were used when initializing TFDistilBertForQuestionAnswering.\n",
      "\n",
      "All the weights of TFDistilBertForQuestionAnswering were initialized from the PyTorch model.\n",
      "If your task is similar to the task the model of the checkpoint was trained on, you can already use TFDistilBertForQuestionAnswering for predictions without further training.\n"
     ]
    }
   ],
   "source": [
    "qa = pipeline(\"question-answering\")"
   ]
  },
  {
   "cell_type": "code",
   "execution_count": 3,
   "id": "44335b59-a96b-4896-9df4-3466caaab0b1",
   "metadata": {},
   "outputs": [],
   "source": [
    "ctx = \"\"\"\n",
    "The Brazilian president, Luiz Inácio Lula da Silva, \n",
    "has told developed countries to put their money where \n",
    "their mouth is when it comes to protecting the world’s \n",
    "remaining tropical forests, as major rainforest nations demanded \n",
    "hundreds of billions of dollars of climate financing and a greater \n",
    "role in how those resources are spent.\n",
    "\n",
    "\"\"\""
   ]
  },
  {
   "cell_type": "code",
   "execution_count": 4,
   "id": "495cf115-81a7-46eb-baac-1197b103133a",
   "metadata": {},
   "outputs": [],
   "source": [
    "question1 = \"Who is the president of Brazil?\""
   ]
  },
  {
   "cell_type": "code",
   "execution_count": 5,
   "id": "40fad0ef-7661-40c8-b911-a57a432cf00b",
   "metadata": {},
   "outputs": [
    {
     "data": {
      "text/plain": [
       "{'score': 0.9925668239593506,\n",
       " 'start': 26,\n",
       " 'end': 51,\n",
       " 'answer': 'Luiz Inácio Lula da Silva'}"
      ]
     },
     "execution_count": 5,
     "metadata": {},
     "output_type": "execute_result"
    }
   ],
   "source": [
    "qa(context=ctx, question = question1)"
   ]
  },
  {
   "cell_type": "code",
   "execution_count": 6,
   "id": "1df0fa77-d126-49a6-b363-c1daaaf27704",
   "metadata": {},
   "outputs": [],
   "source": [
    "question2 = \"What has Lula told to developed countries?\""
   ]
  },
  {
   "cell_type": "code",
   "execution_count": 7,
   "id": "a5197783-10f5-4617-aff8-8324624b86fd",
   "metadata": {},
   "outputs": [
    {
     "data": {
      "text/plain": [
       "{'score': 0.08674242347478867,\n",
       " 'start': 86,\n",
       " 'end': 101,\n",
       " 'answer': 'put their money'}"
      ]
     },
     "execution_count": 7,
     "metadata": {},
     "output_type": "execute_result"
    }
   ],
   "source": [
    "qa(context=ctx, question = question2)"
   ]
  },
  {
   "cell_type": "code",
   "execution_count": 8,
   "id": "efbb9302-78b7-4cd0-a27b-bbd718a3ce0e",
   "metadata": {},
   "outputs": [],
   "source": [
    "question3 = \"What do rainforest countries demand?\""
   ]
  },
  {
   "cell_type": "code",
   "execution_count": 9,
   "id": "679697e1-be5c-4326-a011-08428b4fb7a0",
   "metadata": {},
   "outputs": [
    {
     "data": {
      "text/plain": [
       "{'score': 0.5466824173927307,\n",
       " 'start': 231,\n",
       " 'end': 283,\n",
       " 'answer': 'hundreds of billions of dollars of climate financing'}"
      ]
     },
     "execution_count": 9,
     "metadata": {},
     "output_type": "execute_result"
    }
   ],
   "source": [
    "qa(context=ctx, question = question3)"
   ]
  },
  {
   "cell_type": "code",
   "execution_count": null,
   "id": "1f5654f2-90d6-4a26-a886-f16dfcd0fbfe",
   "metadata": {},
   "outputs": [],
   "source": []
  }
 ],
 "metadata": {
  "kernelspec": {
   "display_name": "Python 3 (ipykernel)",
   "language": "python",
   "name": "python3"
  },
  "language_info": {
   "codemirror_mode": {
    "name": "ipython",
    "version": 3
   },
   "file_extension": ".py",
   "mimetype": "text/x-python",
   "name": "python",
   "nbconvert_exporter": "python",
   "pygments_lexer": "ipython3",
   "version": "3.8.12"
  }
 },
 "nbformat": 4,
 "nbformat_minor": 5
}
