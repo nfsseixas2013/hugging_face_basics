{
 "cells": [
  {
   "cell_type": "code",
   "execution_count": 1,
   "id": "5e69562b-1d33-4821-946a-560d842fac2f",
   "metadata": {},
   "outputs": [
    {
     "name": "stderr",
     "output_type": "stream",
     "text": [
      "/home/nilton/Arquivos/NLP-projects/hugging_face_basics/.venv/lib/python3.8/site-packages/tqdm/auto.py:21: TqdmWarning: IProgress not found. Please update jupyter and ipywidgets. See https://ipywidgets.readthedocs.io/en/stable/user_install.html\n",
      "  from .autonotebook import tqdm as notebook_tqdm\n",
      "2023-08-16 12:41:35.553736: I tensorflow/tsl/cuda/cudart_stub.cc:28] Could not find cuda drivers on your machine, GPU will not be used.\n",
      "2023-08-16 12:41:35.593786: I tensorflow/tsl/cuda/cudart_stub.cc:28] Could not find cuda drivers on your machine, GPU will not be used.\n",
      "2023-08-16 12:41:35.594595: I tensorflow/core/platform/cpu_feature_guard.cc:182] This TensorFlow binary is optimized to use available CPU instructions in performance-critical operations.\n",
      "To enable the following instructions: AVX2 FMA, in other operations, rebuild TensorFlow with the appropriate compiler flags.\n",
      "2023-08-16 12:41:36.358451: W tensorflow/compiler/tf2tensorrt/utils/py_utils.cc:38] TF-TRT Warning: Could not find TensorRT\n"
     ]
    }
   ],
   "source": [
    "from transformers import pipeline"
   ]
  },
  {
   "cell_type": "code",
   "execution_count": 2,
   "id": "c90f8853-6ea2-4cbb-906f-3c71abd1814f",
   "metadata": {},
   "outputs": [
    {
     "name": "stderr",
     "output_type": "stream",
     "text": [
      "No model was supplied, defaulted to distilbert-base-cased-distilled-squad and revision 626af31 (https://huggingface.co/distilbert-base-cased-distilled-squad).\n",
      "Using a pipeline without specifying a model name and revision in production is not recommended.\n",
      "Downloading (…)lve/main/config.json: 100%|████| 473/473 [00:00<00:00, 34.7kB/s]\n",
      "Downloading model.safetensors: 100%|████████| 261M/261M [00:24<00:00, 10.6MB/s]\n",
      "2023-08-16 12:42:29.664855: E tensorflow/compiler/xla/stream_executor/cuda/cuda_driver.cc:268] failed call to cuInit: CUDA_ERROR_NO_DEVICE: no CUDA-capable device is detected\n",
      "All PyTorch model weights were used when initializing TFDistilBertForQuestionAnswering.\n",
      "\n",
      "All the weights of TFDistilBertForQuestionAnswering were initialized from the PyTorch model.\n",
      "If your task is similar to the task the model of the checkpoint was trained on, you can already use TFDistilBertForQuestionAnswering for predictions without further training.\n",
      "Downloading (…)okenizer_config.json: 100%|██| 29.0/29.0 [00:00<00:00, 10.0kB/s]\n",
      "Downloading (…)solve/main/vocab.txt: 100%|██| 213k/213k [00:00<00:00, 1.37MB/s]\n",
      "Downloading (…)/main/tokenizer.json: 100%|██| 436k/436k [00:00<00:00, 1.76MB/s]\n"
     ]
    }
   ],
   "source": [
    "qa = pipeline(\"question-answering\")"
   ]
  },
  {
   "cell_type": "code",
   "execution_count": 5,
   "id": "44335b59-a96b-4896-9df4-3466caaab0b1",
   "metadata": {},
   "outputs": [],
   "source": [
    "ctx = \"\"\"\n",
    "“Every Rolex tells a story,” the luxury watchmaker once claimed.\n",
    "Brazilian police believe that slogan is particularly true when it comes \n",
    "to the diamond-set timepiece at the centre of an investigation into the \n",
    "suspected pilfering of high-priced official gifts by close associates \n",
    "of Jair Bolsonaro – and possibly the former president himself.\n",
    "The scandal – involving hugely expensive presents from Saudi Arabia and Bahrain, \n",
    "a four-star army general, the presidential Airbus and a luxury watch-dealer in Willow Grove,\n",
    "Pennsylvania – first made headlines in March, three months after Bolsonaro left power after \n",
    "losing last October’s election.\n",
    "One of Brazil’s leading conservative newspapers reported that, in October 2021, \n",
    "São Paulo airport customs officials had confiscated a €3m (£2.6m) pair of diamond \n",
    "earrings that a military official travelling with one of Bolsonaro’s ministers had tried \n",
    "to import in his backpack without declaring it. Bolsonaro officials tried, unsuccessfully, \n",
    "to reclaim the jewellery which was supposedly a present for the then first lady, Michelle Bolsonaro, \n",
    "from Saudi Arabia.\n",
    "\n",
    "\"\"\""
   ]
  },
  {
   "cell_type": "code",
   "execution_count": 4,
   "id": "495cf115-81a7-46eb-baac-1197b103133a",
   "metadata": {},
   "outputs": [],
   "source": [
    "question1 = \"What slogan is talked about?\""
   ]
  },
  {
   "cell_type": "code",
   "execution_count": 6,
   "id": "40fad0ef-7661-40c8-b911-a57a432cf00b",
   "metadata": {},
   "outputs": [
    {
     "data": {
      "text/plain": [
       "{'score': 0.33549830317497253, 'start': 2, 'end': 13, 'answer': 'Every Rolex'}"
      ]
     },
     "execution_count": 6,
     "metadata": {},
     "output_type": "execute_result"
    }
   ],
   "source": [
    "qa(context=ctx, question = question1)"
   ]
  },
  {
   "cell_type": "code",
   "execution_count": 9,
   "id": "1df0fa77-d126-49a6-b363-c1daaaf27704",
   "metadata": {},
   "outputs": [],
   "source": [
    "question2 = \"How much officials had confiscated?\""
   ]
  },
  {
   "cell_type": "code",
   "execution_count": 10,
   "id": "a5197783-10f5-4617-aff8-8324624b86fd",
   "metadata": {},
   "outputs": [
    {
     "data": {
      "text/plain": [
       "{'score': 0.4189680516719818,\n",
       " 'start': 781,\n",
       " 'end': 818,\n",
       " 'answer': '€3m (£2.6m) pair of diamond \\nearrings'}"
      ]
     },
     "execution_count": 10,
     "metadata": {},
     "output_type": "execute_result"
    }
   ],
   "source": [
    "qa(context=ctx, question = question2)"
   ]
  },
  {
   "cell_type": "code",
   "execution_count": 11,
   "id": "efbb9302-78b7-4cd0-a27b-bbd718a3ce0e",
   "metadata": {},
   "outputs": [],
   "source": [
    "question3 = \"Who is the main suspect?\""
   ]
  },
  {
   "cell_type": "code",
   "execution_count": 12,
   "id": "679697e1-be5c-4326-a011-08428b4fb7a0",
   "metadata": {},
   "outputs": [
    {
     "data": {
      "text/plain": [
       "{'score': 0.6620877981185913,\n",
       " 'start': 286,\n",
       " 'end': 300,\n",
       " 'answer': 'Jair Bolsonaro'}"
      ]
     },
     "execution_count": 12,
     "metadata": {},
     "output_type": "execute_result"
    }
   ],
   "source": [
    "qa(context=ctx, question = question3)"
   ]
  },
  {
   "cell_type": "code",
   "execution_count": null,
   "id": "1f5654f2-90d6-4a26-a886-f16dfcd0fbfe",
   "metadata": {},
   "outputs": [],
   "source": []
  }
 ],
 "metadata": {
  "kernelspec": {
   "display_name": "Python 3 (ipykernel)",
   "language": "python",
   "name": "python3"
  },
  "language_info": {
   "codemirror_mode": {
    "name": "ipython",
    "version": 3
   },
   "file_extension": ".py",
   "mimetype": "text/x-python",
   "name": "python",
   "nbconvert_exporter": "python",
   "pygments_lexer": "ipython3",
   "version": "3.8.12"
  }
 },
 "nbformat": 4,
 "nbformat_minor": 5
}
