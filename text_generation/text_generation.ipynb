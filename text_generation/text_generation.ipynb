{
 "cells": [
  {
   "cell_type": "code",
   "execution_count": 1,
   "id": "7ed5953e-4ca4-4215-98ea-c4b36b42fb86",
   "metadata": {},
   "outputs": [
    {
     "name": "stderr",
     "output_type": "stream",
     "text": [
      "/home/nilton/Arquivos/NLP-projects/hugging_face_basics/.venv/lib/python3.8/site-packages/tqdm/auto.py:21: TqdmWarning: IProgress not found. Please update jupyter and ipywidgets. See https://ipywidgets.readthedocs.io/en/stable/user_install.html\n",
      "  from .autonotebook import tqdm as notebook_tqdm\n",
      "2023-08-16 15:48:34.361758: I tensorflow/tsl/cuda/cudart_stub.cc:28] Could not find cuda drivers on your machine, GPU will not be used.\n",
      "2023-08-16 15:48:34.401456: I tensorflow/tsl/cuda/cudart_stub.cc:28] Could not find cuda drivers on your machine, GPU will not be used.\n",
      "2023-08-16 15:48:34.402277: I tensorflow/core/platform/cpu_feature_guard.cc:182] This TensorFlow binary is optimized to use available CPU instructions in performance-critical operations.\n",
      "To enable the following instructions: AVX2 FMA, in other operations, rebuild TensorFlow with the appropriate compiler flags.\n",
      "2023-08-16 15:48:35.202214: W tensorflow/compiler/tf2tensorrt/utils/py_utils.cc:38] TF-TRT Warning: Could not find TensorRT\n"
     ]
    }
   ],
   "source": [
    "from transformers import pipeline"
   ]
  },
  {
   "cell_type": "code",
   "execution_count": 2,
   "id": "a6693e03-ab86-44d5-a432-6269472a958a",
   "metadata": {},
   "outputs": [
    {
     "name": "stderr",
     "output_type": "stream",
     "text": [
      "No model was supplied, defaulted to gpt2 and revision 6c0e608 (https://huggingface.co/gpt2).\n",
      "Using a pipeline without specifying a model name and revision in production is not recommended.\n",
      "Downloading (…)lve/main/config.json: 100%|████| 665/665 [00:00<00:00, 48.6kB/s]\n",
      "Downloading model.safetensors: 100%|████████| 548M/548M [00:49<00:00, 11.1MB/s]\n",
      "2023-08-16 15:50:18.642254: E tensorflow/compiler/xla/stream_executor/cuda/cuda_driver.cc:268] failed call to cuInit: CUDA_ERROR_NO_DEVICE: no CUDA-capable device is detected\n",
      "All PyTorch model weights were used when initializing TFGPT2LMHeadModel.\n",
      "\n",
      "All the weights of TFGPT2LMHeadModel were initialized from the PyTorch model.\n",
      "If your task is similar to the task the model of the checkpoint was trained on, you can already use TFGPT2LMHeadModel for predictions without further training.\n",
      "Downloading (…)olve/main/vocab.json: 100%|█| 1.04M/1.04M [00:00<00:00, 2.05MB/s\n",
      "Downloading (…)olve/main/merges.txt: 100%|██| 456k/456k [00:00<00:00, 1.93MB/s]\n",
      "Downloading (…)/main/tokenizer.json: 100%|█| 1.36M/1.36M [00:00<00:00, 3.33MB/s\n"
     ]
    }
   ],
   "source": [
    "gen_text = pipeline(\"text-generation\")"
   ]
  },
  {
   "cell_type": "code",
   "execution_count": 3,
   "id": "45c9473b-b2bd-486a-80b5-6f84a7a9a779",
   "metadata": {},
   "outputs": [],
   "source": [
    "seed_text = \"Brazil is a south american country\""
   ]
  },
  {
   "cell_type": "code",
   "execution_count": 4,
   "id": "7b655028-ca12-4a5a-baad-1a8b504b0e64",
   "metadata": {},
   "outputs": [
    {
     "name": "stderr",
     "output_type": "stream",
     "text": [
      "Setting `pad_token_id` to `eos_token_id`:50256 for open-end generation.\n"
     ]
    },
    {
     "data": {
      "text/plain": [
       "[{'generated_text': 'Brazil is a south american country and an important part of the world. It has a very strong reputation as a good trade partner, and it is'}]"
      ]
     },
     "execution_count": 4,
     "metadata": {},
     "output_type": "execute_result"
    }
   ],
   "source": [
    "gen_text(seed_text, max_length= 30)"
   ]
  },
  {
   "cell_type": "code",
   "execution_count": 5,
   "id": "965cf0fa-ddfc-45ea-b5d9-6ff8661917b0",
   "metadata": {},
   "outputs": [
    {
     "name": "stderr",
     "output_type": "stream",
     "text": [
      "Setting `pad_token_id` to `eos_token_id`:50256 for open-end generation.\n"
     ]
    },
    {
     "data": {
      "text/plain": [
       "[{'generated_text': 'Brazil is a south american country and has an economic powerhouse and huge natural resources. We were lucky to have the opportunity to work with these artists to create a work-in-progress, which will'}]"
      ]
     },
     "execution_count": 5,
     "metadata": {},
     "output_type": "execute_result"
    }
   ],
   "source": [
    "gen_text(seed_text, max_length= 40)"
   ]
  },
  {
   "cell_type": "code",
   "execution_count": 10,
   "id": "464cf698-84c4-41d8-9388-34caca478057",
   "metadata": {},
   "outputs": [],
   "source": [
    "seed_text2 = \"The Brazilian football\""
   ]
  },
  {
   "cell_type": "code",
   "execution_count": 11,
   "id": "dd626065-0ab8-4699-8684-ca9d19eba739",
   "metadata": {},
   "outputs": [
    {
     "name": "stderr",
     "output_type": "stream",
     "text": [
      "Setting `pad_token_id` to `eos_token_id`:50256 for open-end generation.\n"
     ]
    },
    {
     "data": {
      "text/plain": [
       "[{'generated_text': 'The Brazilian football authorities will investigate allegations that former players are involved in money laundering schemes after the group claimed that they were involved in cocaine trade and that it'}]"
      ]
     },
     "execution_count": 11,
     "metadata": {},
     "output_type": "execute_result"
    }
   ],
   "source": [
    "gen_text(seed_text2, max_length= 30)"
   ]
  },
  {
   "cell_type": "code",
   "execution_count": 12,
   "id": "d4a67c2e-932c-4e21-93c6-0f0e85c68493",
   "metadata": {},
   "outputs": [],
   "source": [
    "seed_text3 = \"The Brazilian part of Amazon\""
   ]
  },
  {
   "cell_type": "code",
   "execution_count": 13,
   "id": "cf905131-2957-4833-a94a-e0a293f67055",
   "metadata": {},
   "outputs": [
    {
     "name": "stderr",
     "output_type": "stream",
     "text": [
      "Setting `pad_token_id` to `eos_token_id`:50256 for open-end generation.\n"
     ]
    },
    {
     "data": {
      "text/plain": [
       "[{'generated_text': 'The Brazilian part of Amazon is in decline.\\n\\nA massive increase in deforestation has been making way for the rapid expansion of forests and farmland, which'}]"
      ]
     },
     "execution_count": 13,
     "metadata": {},
     "output_type": "execute_result"
    }
   ],
   "source": [
    "gen_text(seed_text3, max_length= 30)"
   ]
  },
  {
   "cell_type": "code",
   "execution_count": null,
   "id": "3b411821-7218-4b3e-8923-20a12c32088c",
   "metadata": {},
   "outputs": [],
   "source": []
  }
 ],
 "metadata": {
  "kernelspec": {
   "display_name": "Python 3 (ipykernel)",
   "language": "python",
   "name": "python3"
  },
  "language_info": {
   "codemirror_mode": {
    "name": "ipython",
    "version": 3
   },
   "file_extension": ".py",
   "mimetype": "text/x-python",
   "name": "python",
   "nbconvert_exporter": "python",
   "pygments_lexer": "ipython3",
   "version": "3.8.12"
  }
 },
 "nbformat": 4,
 "nbformat_minor": 5
}
