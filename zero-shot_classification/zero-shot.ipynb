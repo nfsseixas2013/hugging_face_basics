{
 "cells": [
  {
   "cell_type": "code",
   "execution_count": 1,
   "id": "58330704-b854-4d19-95c9-60b5275a7884",
   "metadata": {},
   "outputs": [
    {
     "name": "stderr",
     "output_type": "stream",
     "text": [
      "/home/nilton/Arquivos/NLP-projects/hugging_face_basics/.venv/lib/python3.8/site-packages/tqdm/auto.py:21: TqdmWarning: IProgress not found. Please update jupyter and ipywidgets. See https://ipywidgets.readthedocs.io/en/stable/user_install.html\n",
      "  from .autonotebook import tqdm as notebook_tqdm\n",
      "2023-08-20 12:56:36.342866: I tensorflow/tsl/cuda/cudart_stub.cc:28] Could not find cuda drivers on your machine, GPU will not be used.\n",
      "2023-08-20 12:56:36.383783: I tensorflow/tsl/cuda/cudart_stub.cc:28] Could not find cuda drivers on your machine, GPU will not be used.\n",
      "2023-08-20 12:56:36.384774: I tensorflow/core/platform/cpu_feature_guard.cc:182] This TensorFlow binary is optimized to use available CPU instructions in performance-critical operations.\n",
      "To enable the following instructions: AVX2 FMA, in other operations, rebuild TensorFlow with the appropriate compiler flags.\n",
      "2023-08-20 12:56:37.166818: W tensorflow/compiler/tf2tensorrt/utils/py_utils.cc:38] TF-TRT Warning: Could not find TensorRT\n"
     ]
    }
   ],
   "source": [
    "from transformers import pipeline"
   ]
  },
  {
   "cell_type": "code",
   "execution_count": 3,
   "id": "7fcf94bb-4a40-4226-8c2c-eb2b0d51d1b9",
   "metadata": {},
   "outputs": [
    {
     "name": "stderr",
     "output_type": "stream",
     "text": [
      "No model was supplied, defaulted to roberta-large-mnli and revision 130fb28 (https://huggingface.co/roberta-large-mnli).\n",
      "Using a pipeline without specifying a model name and revision in production is not recommended.\n",
      "Downloading (…)lve/main/config.json: 100%|█████| 688/688 [00:00<00:00, 50.5kB/s]\n",
      "Downloading model.safetensors: 100%|███████| 1.43G/1.43G [02:08<00:00, 11.1MB/s]\n",
      "2023-08-20 12:59:56.896992: E tensorflow/compiler/xla/stream_executor/cuda/cuda_driver.cc:268] failed call to cuInit: CUDA_ERROR_NO_DEVICE: no CUDA-capable device is detected\n",
      "All PyTorch model weights were used when initializing TFRobertaForSequenceClassification.\n",
      "\n",
      "All the weights of TFRobertaForSequenceClassification were initialized from the PyTorch model.\n",
      "If your task is similar to the task the model of the checkpoint was trained on, you can already use TFRobertaForSequenceClassification for predictions without further training.\n",
      "Downloading (…)olve/main/vocab.json: 100%|███| 899k/899k [00:00<00:00, 3.38MB/s]\n",
      "Downloading (…)olve/main/merges.txt: 100%|███| 456k/456k [00:00<00:00, 1.82MB/s]\n",
      "Downloading (…)/main/tokenizer.json: 100%|█| 1.36M/1.36M [00:00<00:00, 4.73MB/s]\n"
     ]
    }
   ],
   "source": [
    "zero_shot = pipeline(\"zero-shot-classification\")"
   ]
  },
  {
   "cell_type": "code",
   "execution_count": 4,
   "id": "2382af5b-7d89-4bcd-9683-86bc820d9ac7",
   "metadata": {},
   "outputs": [],
   "source": [
    "ctx = \"\"\"\n",
    "Those who knew Thiago Menezes Flausino described him as a boy with dreams. These were brutally shattered by several police bullets this week, when the 13-year-old became one of the latest victims of state violence in a Rio de Janeiro favela.\n",
    "\n",
    "“He dreamed of becoming a professional footballer. He’d passed tryouts for a bigger team and was going to start playing on the day he was killed,” said his aunt Nataly Bezerra Flausino, standing outside the evangelical church where her nephew’s funeral was being held on Tuesday, mere months after his baptism.\n",
    "\n",
    "Thiago was the ninth child aged under 14 to die in a shooting this year in Rio, according to the human rights NGO Rio de Paz. A tenth has died since. Most are hit by stray bullets, often during the police raids that routinely paralyse Rio’s low-income communities, such as the one that left 10 dead earlier this month.\n",
    "\n",
    "But it was no stray bullet that killed Thiago in the small hours of Monday morning on the main thoroughfare that cuts through Cidade de Deus (City of God), the favela made globally famous by Fernando Meirelles’s 2002 film. His family say he was executed by military police officers, his only crime being a young Black boy riding on the back of a motorbike in a favela.\n",
    "\n",
    "“My nephew was hit with more than five gunshots. He’s 13, all small and skinny. The bullets went right through his body,” sobbed Flausino.\n",
    "\n",
    "Deaths like Thiago’s are sadly commonplace in a country where police killed more than 6,400 people last year, 83% of them Black. Less than 24 hours earlier, another Black youth died near a Rio favela at the hands of police who chose to shoot first and ask questions later.\n",
    "\n",
    "Still, Thiago’s age has sparked particular outcry. “The death of a 13-year-old adolescent by a state bullet is a grave sign that we have failed as a society,” tweeted Renata Souza, a leftwing lawmaker.\n",
    "\"\"\""
   ]
  },
  {
   "cell_type": "code",
   "execution_count": 5,
   "id": "c462a8f7-78f5-4eaa-9e9f-ecdfe8dae553",
   "metadata": {},
   "outputs": [],
   "source": [
    "labels = [\"Police Violence\", \"Politics\"]"
   ]
  },
  {
   "cell_type": "code",
   "execution_count": 6,
   "id": "4667c123-b7d6-4509-ba45-8d43bd2d2078",
   "metadata": {},
   "outputs": [
    {
     "data": {
      "text/plain": [
       "{'sequence': '\\nThose who knew Thiago Menezes Flausino described him as a boy with dreams. These were brutally shattered by several police bullets this week, when the 13-year-old became one of the latest victims of state violence in a Rio de Janeiro favela.\\n\\n“He dreamed of becoming a professional footballer. He’d passed tryouts for a bigger team and was going to start playing on the day he was killed,” said his aunt Nataly Bezerra Flausino, standing outside the evangelical church where her nephew’s funeral was being held on Tuesday, mere months after his baptism.\\n\\nThiago was the ninth child aged under 14 to die in a shooting this year in Rio, according to the human rights NGO Rio de Paz. A tenth has died since. Most are hit by stray bullets, often during the police raids that routinely paralyse Rio’s low-income communities, such as the one that left 10 dead earlier this month.\\n\\nBut it was no stray bullet that killed Thiago in the small hours of Monday morning on the main thoroughfare that cuts through Cidade de Deus (City of God), the favela made globally famous by Fernando Meirelles’s 2002 film. His family say he was executed by military police officers, his only crime being a young Black boy riding on the back of a motorbike in a favela.\\n\\n“My nephew was hit with more than five gunshots. He’s 13, all small and skinny. The bullets went right through his body,” sobbed Flausino.\\n\\nDeaths like Thiago’s are sadly commonplace in a country where police killed more than 6,400 people last year, 83% of them Black. Less than 24 hours earlier, another Black youth died near a Rio favela at the hands of police who chose to shoot first and ask questions later.\\n\\nStill, Thiago’s age has sparked particular outcry. “The death of a 13-year-old adolescent by a state bullet is a grave sign that we have failed as a society,” tweeted Renata Souza, a leftwing lawmaker.\\n',\n",
       " 'labels': ['Police Violence', 'Politics'],\n",
       " 'scores': [0.5006382465362549, 0.49936172366142273]}"
      ]
     },
     "execution_count": 6,
     "metadata": {},
     "output_type": "execute_result"
    }
   ],
   "source": [
    "zero_shot(ctx, candidate_labels = labels)"
   ]
  },
  {
   "cell_type": "code",
   "execution_count": 7,
   "id": "9d0d451e-4af3-4a5d-aafd-85c74bdd429c",
   "metadata": {},
   "outputs": [],
   "source": [
    "labels2 = [\"Brazil\", \"USA\"]"
   ]
  },
  {
   "cell_type": "code",
   "execution_count": 8,
   "id": "07681688-c15f-45ba-a40c-27f7f41085a5",
   "metadata": {},
   "outputs": [
    {
     "data": {
      "text/plain": [
       "{'sequence': '\\nThose who knew Thiago Menezes Flausino described him as a boy with dreams. These were brutally shattered by several police bullets this week, when the 13-year-old became one of the latest victims of state violence in a Rio de Janeiro favela.\\n\\n“He dreamed of becoming a professional footballer. He’d passed tryouts for a bigger team and was going to start playing on the day he was killed,” said his aunt Nataly Bezerra Flausino, standing outside the evangelical church where her nephew’s funeral was being held on Tuesday, mere months after his baptism.\\n\\nThiago was the ninth child aged under 14 to die in a shooting this year in Rio, according to the human rights NGO Rio de Paz. A tenth has died since. Most are hit by stray bullets, often during the police raids that routinely paralyse Rio’s low-income communities, such as the one that left 10 dead earlier this month.\\n\\nBut it was no stray bullet that killed Thiago in the small hours of Monday morning on the main thoroughfare that cuts through Cidade de Deus (City of God), the favela made globally famous by Fernando Meirelles’s 2002 film. His family say he was executed by military police officers, his only crime being a young Black boy riding on the back of a motorbike in a favela.\\n\\n“My nephew was hit with more than five gunshots. He’s 13, all small and skinny. The bullets went right through his body,” sobbed Flausino.\\n\\nDeaths like Thiago’s are sadly commonplace in a country where police killed more than 6,400 people last year, 83% of them Black. Less than 24 hours earlier, another Black youth died near a Rio favela at the hands of police who chose to shoot first and ask questions later.\\n\\nStill, Thiago’s age has sparked particular outcry. “The death of a 13-year-old adolescent by a state bullet is a grave sign that we have failed as a society,” tweeted Renata Souza, a leftwing lawmaker.\\n',\n",
       " 'labels': ['USA', 'Brazil'],\n",
       " 'scores': [0.5004413723945618, 0.49955862760543823]}"
      ]
     },
     "execution_count": 8,
     "metadata": {},
     "output_type": "execute_result"
    }
   ],
   "source": [
    "zero_shot(ctx, candidate_labels = labels2)"
   ]
  },
  {
   "cell_type": "code",
   "execution_count": null,
   "id": "eb727a5c-96a4-4ea4-99fe-b9eae0314fb0",
   "metadata": {},
   "outputs": [],
   "source": []
  }
 ],
 "metadata": {
  "kernelspec": {
   "display_name": "Python 3 (ipykernel)",
   "language": "python",
   "name": "python3"
  },
  "language_info": {
   "codemirror_mode": {
    "name": "ipython",
    "version": 3
   },
   "file_extension": ".py",
   "mimetype": "text/x-python",
   "name": "python",
   "nbconvert_exporter": "python",
   "pygments_lexer": "ipython3",
   "version": "3.8.12"
  }
 },
 "nbformat": 4,
 "nbformat_minor": 5
}
