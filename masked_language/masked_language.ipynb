{
 "cells": [
  {
   "cell_type": "code",
   "execution_count": 1,
   "id": "c1561b28-c063-410e-806a-6701c77f9645",
   "metadata": {},
   "outputs": [
    {
     "name": "stderr",
     "output_type": "stream",
     "text": [
      "/home/nilton/Arquivos/NLP-projects/hugging_face_basics/.venv/lib/python3.8/site-packages/tqdm/auto.py:21: TqdmWarning: IProgress not found. Please update jupyter and ipywidgets. See https://ipywidgets.readthedocs.io/en/stable/user_install.html\n",
      "  from .autonotebook import tqdm as notebook_tqdm\n",
      "2023-08-16 11:39:39.787833: I tensorflow/tsl/cuda/cudart_stub.cc:28] Could not find cuda drivers on your machine, GPU will not be used.\n",
      "2023-08-16 11:39:44.516148: I tensorflow/tsl/cuda/cudart_stub.cc:28] Could not find cuda drivers on your machine, GPU will not be used.\n",
      "2023-08-16 11:39:44.535590: I tensorflow/core/platform/cpu_feature_guard.cc:182] This TensorFlow binary is optimized to use available CPU instructions in performance-critical operations.\n",
      "To enable the following instructions: AVX2 FMA, in other operations, rebuild TensorFlow with the appropriate compiler flags.\n",
      "2023-08-16 11:39:49.779308: W tensorflow/compiler/tf2tensorrt/utils/py_utils.cc:38] TF-TRT Warning: Could not find TensorRT\n"
     ]
    }
   ],
   "source": [
    "from transformers import pipeline"
   ]
  },
  {
   "cell_type": "code",
   "execution_count": 2,
   "id": "ab2f0094-899f-45fc-b4f9-8cf809e7b800",
   "metadata": {},
   "outputs": [
    {
     "name": "stderr",
     "output_type": "stream",
     "text": [
      "No model was supplied, defaulted to distilroberta-base and revision ec58a5b (https://huggingface.co/distilroberta-base).\n",
      "Using a pipeline without specifying a model name and revision in production is not recommended.\n",
      "Downloading (…)lve/main/config.json: 100%|████| 480/480 [00:00<00:00, 35.3kB/s]\n",
      "Downloading model.safetensors: 100%|████████| 331M/331M [00:30<00:00, 10.7MB/s]\n",
      "2023-08-16 11:41:49.598522: E tensorflow/compiler/xla/stream_executor/cuda/cuda_driver.cc:268] failed call to cuInit: CUDA_ERROR_NO_DEVICE: no CUDA-capable device is detected\n",
      "All PyTorch model weights were used when initializing TFRobertaForMaskedLM.\n",
      "\n",
      "All the weights of TFRobertaForMaskedLM were initialized from the PyTorch model.\n",
      "If your task is similar to the task the model of the checkpoint was trained on, you can already use TFRobertaForMaskedLM for predictions without further training.\n",
      "Downloading (…)olve/main/vocab.json: 100%|██| 899k/899k [00:00<00:00, 2.39MB/s]\n",
      "Downloading (…)olve/main/merges.txt: 100%|██| 456k/456k [00:00<00:00, 1.78MB/s]\n",
      "Downloading (…)/main/tokenizer.json: 100%|█| 1.36M/1.36M [00:00<00:00, 3.23MB/s\n"
     ]
    }
   ],
   "source": [
    "mlm = pipeline(\"fill-mask\")"
   ]
  },
  {
   "cell_type": "code",
   "execution_count": 3,
   "id": "7ec17dd8-3768-4836-9d0a-439cd972d884",
   "metadata": {},
   "outputs": [
    {
     "name": "stdout",
     "output_type": "stream",
     "text": [
      "--2023-08-16 11:44:44--  http://nc/\n",
      "Resolving nc (nc)... failed: Temporary failure in name resolution.\n",
      "wget: unable to resolve host address ‘nc’\n",
      "--2023-08-16 11:44:44--  https://lazyprogrammer.me/course_files/nlp/bbc_text_cls.csv\n",
      "Resolving lazyprogrammer.me (lazyprogrammer.me)... 2606:4700:3030::ac43:d5a6, 2606:4700:3031::6815:17d2, 172.67.213.166, ...\n",
      "Connecting to lazyprogrammer.me (lazyprogrammer.me)|2606:4700:3030::ac43:d5a6|:443... connected.\n",
      "HTTP request sent, awaiting response... 200 OK\n",
      "Length: 5085081 (4,8M) [text/csv]\n",
      "Saving to: ‘bbc_text_cls.csv’\n",
      "\n",
      "bbc_text_cls.csv    100%[===================>]   4,85M  1,54MB/s    in 3,2s    \n",
      "\n",
      "2023-08-16 11:44:49 (1,54 MB/s) - ‘bbc_text_cls.csv’ saved [5085081/5085081]\n",
      "\n",
      "FINISHED --2023-08-16 11:44:49--\n",
      "Total wall clock time: 4,7s\n",
      "Downloaded: 1 files, 4,8M in 3,2s (1,54 MB/s)\n"
     ]
    }
   ],
   "source": [
    "!wget nc https://lazyprogrammer.me/course_files/nlp/bbc_text_cls.csv"
   ]
  },
  {
   "cell_type": "code",
   "execution_count": 4,
   "id": "f4e4f2b2-edb4-46bf-bf7a-250e0338fb54",
   "metadata": {},
   "outputs": [],
   "source": [
    "import numpy as np\n",
    "import pandas as pd\n",
    "import textwrap\n",
    "from pprint import pprint"
   ]
  },
  {
   "cell_type": "code",
   "execution_count": 5,
   "id": "ac35a8fe-9479-4fef-add6-533238b3123c",
   "metadata": {},
   "outputs": [],
   "source": [
    "dataset = pd.read_csv('bbc_text_cls.csv')"
   ]
  },
  {
   "cell_type": "code",
   "execution_count": 6,
   "id": "7da0b1ba-ef42-43f0-b414-eb5cfd32bf58",
   "metadata": {},
   "outputs": [
    {
     "data": {
      "text/plain": [
       "{'business', 'entertainment', 'politics', 'sport', 'tech'}"
      ]
     },
     "execution_count": 6,
     "metadata": {},
     "output_type": "execute_result"
    }
   ],
   "source": [
    "labels = set(dataset['labels'])\n",
    "labels"
   ]
  },
  {
   "cell_type": "code",
   "execution_count": 7,
   "id": "bd9b39ed-42bf-4b31-a1ef-da88931e3b4c",
   "metadata": {},
   "outputs": [],
   "source": [
    "label = 'tech'"
   ]
  },
  {
   "cell_type": "code",
   "execution_count": 8,
   "id": "b4d59217-52f3-4fa4-839b-1ef9aca0d68e",
   "metadata": {},
   "outputs": [
    {
     "data": {
      "text/plain": [
       "1824    Ink helps drive democracy in Asia\\n\\nThe Kyrgy...\n",
       "1825    China net cafe culture crackdown\\n\\nChinese au...\n",
       "1826    Microsoft seeking spyware trojan\\n\\nMicrosoft ...\n",
       "1827    Digital guru floats sub-$100 PC\\n\\nNicholas Ne...\n",
       "1828    Technology gets the creative bug\\n\\nThe hi-tec...\n",
       "Name: text, dtype: object"
      ]
     },
     "execution_count": 8,
     "metadata": {},
     "output_type": "execute_result"
    }
   ],
   "source": [
    "texts = dataset[dataset['labels'] == label]['text']\n",
    "texts.head()"
   ]
  },
  {
   "cell_type": "code",
   "execution_count": 9,
   "id": "285e03db-f056-489d-ba18-4910ca75a8cb",
   "metadata": {},
   "outputs": [
    {
     "data": {
      "text/plain": [
       "401"
      ]
     },
     "execution_count": 9,
     "metadata": {},
     "output_type": "execute_result"
    }
   ],
   "source": [
    "len(texts)"
   ]
  },
  {
   "cell_type": "code",
   "execution_count": 10,
   "id": "bf287b3f-e029-4fee-b57e-6a33a6c1f18a",
   "metadata": {},
   "outputs": [],
   "source": [
    "np.random.seed(1234)"
   ]
  },
  {
   "cell_type": "code",
   "execution_count": 11,
   "id": "8a952aac-e2d2-468f-81c6-a17c2a8edba1",
   "metadata": {},
   "outputs": [],
   "source": [
    "i = np.random.choice(texts.shape[0])\n",
    "doc = texts.iloc[i]"
   ]
  },
  {
   "cell_type": "code",
   "execution_count": 12,
   "id": "d8074a77-3175-4ce5-8179-84c2356cb995",
   "metadata": {},
   "outputs": [
    {
     "name": "stdout",
     "output_type": "stream",
     "text": [
      "Format wars could 'confuse users'\n",
      "\n",
      "Technology firms Sony, Philips,\n",
      "Matsushita and Samsung are developing a common way to stop people\n",
      "pirating digital music and video.\n",
      "\n",
      "The firms want to make a system\n",
      "that ensures files play on the hardware they make but also thwarts\n",
      "illegal copying.  The move could mean more confusion for consumers\n",
      "already faced by many different, and conflicting, content control\n",
      "systems, experts warned.  They say there are no guarantees the system\n",
      "will even prevent piracy.\n",
      "\n",
      "Currently many online stores wrap up\n",
      "downloadable files in an own-brand control system that means they can\n",
      "only be played on a small number of media players.  Systems that limit\n",
      "what people can do with the files they download are known as Digital\n",
      "Rights Management systems.  By setting up the alliance to work on a\n",
      "common control system, the firms said they hope to end this current\n",
      "fragmentation of file formats.  In a joint statement the firms said\n",
      "they wanted to let consumers enjoy \"appropriately licensed video and\n",
      "music on any device, independent of how they originally obtained that\n",
      "content\". The firms hope that it will also make it harder for\n",
      "consumers to make illegal copies of the music, movies and other\n",
      "digital content they have bought.  Called the Marlin Joint Development\n",
      "Association, the alliance will define basic specifications that every\n",
      "device made by the electronics firms will conform to.  Marlin will be\n",
      "built on technology from rights management firm Intertrust as well as\n",
      "an earlier DRM system developed by a group known as the Coral\n",
      "Consortium.\n",
      "\n",
      "The move is widely seen as a way for the four firms to\n",
      "decide their own destiny on content control systems instead of having\n",
      "to sign up for those being pushed by Apple and Microsoft.  Confusingly\n",
      "for consumers, the technology that comes out of the alliance will sit\n",
      "alongside the content control systems of rival firms such as Microsoft\n",
      "and Apple.  \"In many ways the different DRM systems are akin to the\n",
      "different physical formats, such as Betamax and VHS, that consumers\n",
      "have seen in the past,\" said Ian Fogg, personal technology and\n",
      "broadband analyst at Jupiter Research.  \"The difference is that it is\n",
      "very fragmented,\" he said.  \"It's not a two-horse race, it's a five,\n",
      "six, seven or even eight-horse race\" Mr Fogg said consumers had to be\n",
      "very careful when buying digital content to ensure that it would play\n",
      "on the devices they own.  He said currently there were even\n",
      "incompatibilities within DRM families.  Although initiatives such as\n",
      "Microsoft's \"Plays for Sure\" program could help remove some of the\n",
      "uncertainty, he said, life was likely to be confusing for consumers\n",
      "for some time to come.\n",
      "\n",
      "Shelley Taylor, analyst and author of a report\n",
      "about online music services, said the locks and limits on digital\n",
      "files were done to maximise the cash that firms can make from\n",
      "consumers.  Apple's iTunes service was a perfect example of this, she\n",
      "said.  \"Although iTunes has been hugely successful, Apple could not\n",
      "justify its existence if it did not help sell all those iPods,\" she\n",
      "said.\n",
      "\n",
      "She said rampant competition between online music services, of\n",
      "which there are now 230 according to recent figures, could drive more\n",
      "openness and freer file formats.  \"It always works out that consumer\n",
      "needs win out in the long run,\" she said, \"and the services that win\n",
      "in the long run are the ones that listen to consumers earliest.\"  Ms\n",
      "Taylor said the limits legal download services place on files could\n",
      "help explain the continuing popularity of file-sharing systems that\n",
      "let people get hold of pirated pop.  \"People want portability,\" she\n",
      "said, \"and with peer-to-peer they have 100% portability.\"  Cory\n",
      "Doctorow, European co-ordinator for the Electronic Frontier Foundation\n",
      "which campaigns for consumers on many cyber-rights issues, expressed\n",
      "doubts that the Marlin system would achieve its aims.  \"Not one of\n",
      "these systems has ever prevented piracy or illegal copying,\" he said.\n",
      "He said many firms readily admit that their DRM systems are little\n",
      "protection against skilled attackers such as the organised crime gangs\n",
      "that are responsible for most piracy.  Instead, said Mr Doctorow, DRM\n",
      "systems were intended to control the group that electronics firms have\n",
      "most hold over - consumers.  \"The studios and labels perceive an\n",
      "opportunity to sell you your media again and again - the iPod version,\n",
      "the auto version, the American and UK version, the ringtone version,\n",
      "and so on.\"\n"
     ]
    }
   ],
   "source": [
    "print(textwrap.fill(doc,replace_whitespace=False, fix_sentence_endings=True))"
   ]
  },
  {
   "cell_type": "code",
   "execution_count": null,
   "id": "dd02c220-4786-45fe-bfde-fdf03e9a4079",
   "metadata": {},
   "outputs": [],
   "source": [
    "### Testing"
   ]
  },
  {
   "cell_type": "code",
   "execution_count": 13,
   "id": "538611cf-29b8-422e-a70d-2910ececd458",
   "metadata": {},
   "outputs": [],
   "source": [
    "test = \"Shares of Petrobras is <mask> since Lula take over\""
   ]
  },
  {
   "cell_type": "code",
   "execution_count": 14,
   "id": "8464177e-d78a-4ac5-8b6d-4a3d6d7c92b2",
   "metadata": {},
   "outputs": [
    {
     "data": {
      "text/plain": [
       "[{'score': 0.20190899074077606,\n",
       "  'token': 15447,\n",
       "  'token_str': ' soaring',\n",
       "  'sequence': 'Shares of Petrobras is soaring since Lula take over'},\n",
       " {'score': 0.19378770887851715,\n",
       "  'token': 18856,\n",
       "  'token_str': ' surging',\n",
       "  'sequence': 'Shares of Petrobras is surging since Lula take over'},\n",
       " {'score': 0.12681062519550323,\n",
       "  'token': 3064,\n",
       "  'token_str': ' falling',\n",
       "  'sequence': 'Shares of Petrobras is falling since Lula take over'},\n",
       " {'score': 0.07697705179452896,\n",
       "  'token': 8620,\n",
       "  'token_str': ' declining',\n",
       "  'sequence': 'Shares of Petrobras is declining since Lula take over'},\n",
       " {'score': 0.03449304401874542,\n",
       "  'token': 2227,\n",
       "  'token_str': ' rising',\n",
       "  'sequence': 'Shares of Petrobras is rising since Lula take over'}]"
      ]
     },
     "execution_count": 14,
     "metadata": {},
     "output_type": "execute_result"
    }
   ],
   "source": [
    "mlm(test)"
   ]
  },
  {
   "cell_type": "code",
   "execution_count": 19,
   "id": "a162441f-e334-4cab-b29f-7011b8aadae1",
   "metadata": {},
   "outputs": [],
   "source": [
    "def replace_string(text):\n",
    "    return mlm(text)[0]['sequence']"
   ]
  },
  {
   "cell_type": "code",
   "execution_count": 20,
   "id": "2b092b24-e698-4acd-b948-362e6a7acdf7",
   "metadata": {},
   "outputs": [
    {
     "data": {
      "text/plain": [
       "'Shares of Petrobras is soaring since Lula take over'"
      ]
     },
     "execution_count": 20,
     "metadata": {},
     "output_type": "execute_result"
    }
   ],
   "source": [
    "replace_string(test)"
   ]
  },
  {
   "cell_type": "code",
   "execution_count": 21,
   "id": "f66bbc64-8fca-4a90-8220-a7558cfe438f",
   "metadata": {},
   "outputs": [],
   "source": [
    "test2 = \"Matsushita and Samsung are developing a common way to stop <mask> pirating digital music and video.\""
   ]
  },
  {
   "cell_type": "code",
   "execution_count": 22,
   "id": "3887706d-8661-4c98-aeca-f0a0072940f7",
   "metadata": {},
   "outputs": [
    {
     "data": {
      "text/plain": [
       "'Matsushita and Samsung are developing a common way to stop pirates pirating digital music and video.'"
      ]
     },
     "execution_count": 22,
     "metadata": {},
     "output_type": "execute_result"
    }
   ],
   "source": [
    "replace_string(test2)"
   ]
  },
  {
   "cell_type": "code",
   "execution_count": 23,
   "id": "48337de0-b086-452c-ba97-961f28c9da6b",
   "metadata": {},
   "outputs": [
    {
     "data": {
      "text/plain": [
       "[{'score': 0.2849469780921936,\n",
       "  'token': 34941,\n",
       "  'token_str': ' pirates',\n",
       "  'sequence': 'Matsushita and Samsung are developing a common way to stop pirates pirating digital music and video.'},\n",
       " {'score': 0.13197815418243408,\n",
       "  'token': 5176,\n",
       "  'token_str': ' illegally',\n",
       "  'sequence': 'Matsushita and Samsung are developing a common way to stop illegally pirating digital music and video.'},\n",
       " {'score': 0.08905323594808578,\n",
       "  'token': 82,\n",
       "  'token_str': ' people',\n",
       "  'sequence': 'Matsushita and Samsung are developing a common way to stop people pirating digital music and video.'},\n",
       " {'score': 0.05286438763141632,\n",
       "  'token': 1434,\n",
       "  'token_str': ' users',\n",
       "  'sequence': 'Matsushita and Samsung are developing a common way to stop users pirating digital music and video.'},\n",
       " {'score': 0.046160221099853516,\n",
       "  'token': 2360,\n",
       "  'token_str': ' consumers',\n",
       "  'sequence': 'Matsushita and Samsung are developing a common way to stop consumers pirating digital music and video.'}]"
      ]
     },
     "execution_count": 23,
     "metadata": {},
     "output_type": "execute_result"
    }
   ],
   "source": [
    "mlm(test2)"
   ]
  },
  {
   "cell_type": "code",
   "execution_count": null,
   "id": "87f926ce-034f-402d-b41b-96ab0892610c",
   "metadata": {},
   "outputs": [],
   "source": []
  }
 ],
 "metadata": {
  "kernelspec": {
   "display_name": "Python 3 (ipykernel)",
   "language": "python",
   "name": "python3"
  },
  "language_info": {
   "codemirror_mode": {
    "name": "ipython",
    "version": 3
   },
   "file_extension": ".py",
   "mimetype": "text/x-python",
   "name": "python",
   "nbconvert_exporter": "python",
   "pygments_lexer": "ipython3",
   "version": "3.8.12"
  }
 },
 "nbformat": 4,
 "nbformat_minor": 5
}
