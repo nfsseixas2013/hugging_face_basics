{
 "cells": [
  {
   "cell_type": "code",
   "execution_count": 2,
   "id": "eab12289-e756-4448-bc4a-14529457f9b1",
   "metadata": {},
   "outputs": [
    {
     "name": "stderr",
     "output_type": "stream",
     "text": [
      "/home/nilton/Arquivos/NLP-projects/hugging_face_basics/.venv/lib/python3.8/site-packages/tqdm/auto.py:21: TqdmWarning: IProgress not found. Please update jupyter and ipywidgets. See https://ipywidgets.readthedocs.io/en/stable/user_install.html\n",
      "  from .autonotebook import tqdm as notebook_tqdm\n",
      "2023-08-16 12:20:57.386420: I tensorflow/tsl/cuda/cudart_stub.cc:28] Could not find cuda drivers on your machine, GPU will not be used.\n",
      "2023-08-16 12:20:57.427710: I tensorflow/tsl/cuda/cudart_stub.cc:28] Could not find cuda drivers on your machine, GPU will not be used.\n",
      "2023-08-16 12:20:57.428420: I tensorflow/core/platform/cpu_feature_guard.cc:182] This TensorFlow binary is optimized to use available CPU instructions in performance-critical operations.\n",
      "To enable the following instructions: AVX2 FMA, in other operations, rebuild TensorFlow with the appropriate compiler flags.\n",
      "2023-08-16 12:20:58.180761: W tensorflow/compiler/tf2tensorrt/utils/py_utils.cc:38] TF-TRT Warning: Could not find TensorRT\n"
     ]
    }
   ],
   "source": [
    "from transformers import pipeline"
   ]
  },
  {
   "cell_type": "code",
   "execution_count": 3,
   "id": "a359cb58-e62d-433b-8347-e621d4844da7",
   "metadata": {},
   "outputs": [
    {
     "name": "stderr",
     "output_type": "stream",
     "text": [
      "No model was supplied, defaulted to dbmdz/bert-large-cased-finetuned-conll03-english and revision f2482bf (https://huggingface.co/dbmdz/bert-large-cased-finetuned-conll03-english).\n",
      "Using a pipeline without specifying a model name and revision in production is not recommended.\n",
      "Downloading (…)lve/main/config.json: 100%|████| 998/998 [00:00<00:00, 69.2kB/s]\n",
      "Downloading tf_model.h5: 100%|████████████| 1.33G/1.33G [01:59<00:00, 11.1MB/s]\n",
      "2023-08-16 12:26:21.799799: E tensorflow/compiler/xla/stream_executor/cuda/cuda_driver.cc:268] failed call to cuInit: CUDA_ERROR_NO_DEVICE: no CUDA-capable device is detected\n",
      "Some layers from the model checkpoint at dbmdz/bert-large-cased-finetuned-conll03-english were not used when initializing TFBertForTokenClassification: ['dropout_147']\n",
      "- This IS expected if you are initializing TFBertForTokenClassification from the checkpoint of a model trained on another task or with another architecture (e.g. initializing a BertForSequenceClassification model from a BertForPreTraining model).\n",
      "- This IS NOT expected if you are initializing TFBertForTokenClassification from the checkpoint of a model that you expect to be exactly identical (initializing a BertForSequenceClassification model from a BertForSequenceClassification model).\n",
      "All the layers of TFBertForTokenClassification were initialized from the model checkpoint at dbmdz/bert-large-cased-finetuned-conll03-english.\n",
      "If your task is similar to the task the model of the checkpoint was trained on, you can already use TFBertForTokenClassification for predictions without further training.\n",
      "Downloading (…)okenizer_config.json: 100%|██| 60.0/60.0 [00:00<00:00, 52.2kB/s]\n",
      "Downloading (…)solve/main/vocab.txt: 100%|██| 213k/213k [00:00<00:00, 1.24MB/s]\n"
     ]
    }
   ],
   "source": [
    "ner = pipeline(\"ner\", aggregation_strategy = 'simple', device = 0)"
   ]
  },
  {
   "cell_type": "code",
   "execution_count": 4,
   "id": "d9b32922-9772-438f-a014-551d36d9b22c",
   "metadata": {},
   "outputs": [
    {
     "data": {
      "text/plain": [
       "[{'entity_group': 'PER',\n",
       "  'score': 0.9988171,\n",
       "  'word': 'Lula',\n",
       "  'start': 0,\n",
       "  'end': 4},\n",
       " {'entity_group': 'LOC',\n",
       "  'score': 0.99967265,\n",
       "  'word': 'Brazil',\n",
       "  'start': 25,\n",
       "  'end': 31}]"
      ]
     },
     "execution_count": 4,
     "metadata": {},
     "output_type": "execute_result"
    }
   ],
   "source": [
    "ner(\"Lula is the president of Brazil\")"
   ]
  },
  {
   "cell_type": "code",
   "execution_count": 5,
   "id": "5c0a9aa2-e286-46a4-be1c-28a2ed1b8751",
   "metadata": {},
   "outputs": [
    {
     "data": {
      "text/plain": [
       "[{'entity_group': 'PER',\n",
       "  'score': 0.9992037,\n",
       "  'word': 'Nilton',\n",
       "  'start': 11,\n",
       "  'end': 17},\n",
       " {'entity_group': 'ORG',\n",
       "  'score': 0.9968212,\n",
       "  'word': 'UFBA',\n",
       "  'start': 50,\n",
       "  'end': 54}]"
      ]
     },
     "execution_count": 5,
     "metadata": {},
     "output_type": "execute_result"
    }
   ],
   "source": [
    "ner(\"My name is Nilton and I work as data scientist at UFBA\")"
   ]
  },
  {
   "cell_type": "code",
   "execution_count": 6,
   "id": "0269f582-5ada-4ff1-a7fe-7e83a5e9d795",
   "metadata": {},
   "outputs": [
    {
     "data": {
      "text/plain": [
       "[{'entity_group': 'PER',\n",
       "  'score': 0.9978266,\n",
       "  'word': 'Nilton Seixas',\n",
       "  'start': 11,\n",
       "  'end': 24},\n",
       " {'entity_group': 'ORG',\n",
       "  'score': 0.99722624,\n",
       "  'word': 'UFBA',\n",
       "  'start': 57,\n",
       "  'end': 61}]"
      ]
     },
     "execution_count": 6,
     "metadata": {},
     "output_type": "execute_result"
    }
   ],
   "source": [
    "ner(\"My name is Nilton Seixas and I work as data scientist at UFBA\")"
   ]
  },
  {
   "cell_type": "code",
   "execution_count": null,
   "id": "744fc03c-d39b-4495-8366-bdb345d34604",
   "metadata": {},
   "outputs": [],
   "source": []
  }
 ],
 "metadata": {
  "kernelspec": {
   "display_name": "Python 3 (ipykernel)",
   "language": "python",
   "name": "python3"
  },
  "language_info": {
   "codemirror_mode": {
    "name": "ipython",
    "version": 3
   },
   "file_extension": ".py",
   "mimetype": "text/x-python",
   "name": "python",
   "nbconvert_exporter": "python",
   "pygments_lexer": "ipython3",
   "version": "3.8.12"
  }
 },
 "nbformat": 4,
 "nbformat_minor": 5
}
