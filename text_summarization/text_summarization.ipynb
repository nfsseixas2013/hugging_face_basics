{
 "cells": [
  {
   "cell_type": "code",
   "execution_count": 1,
   "id": "4bc65742-02b7-4a54-ae80-8b713c8f401f",
   "metadata": {},
   "outputs": [
    {
     "name": "stderr",
     "output_type": "stream",
     "text": [
      "/home/nilton/Arquivos/NLP-projects/hugging_face_basics/.venv/lib/python3.8/site-packages/tqdm/auto.py:21: TqdmWarning: IProgress not found. Please update jupyter and ipywidgets. See https://ipywidgets.readthedocs.io/en/stable/user_install.html\n",
      "  from .autonotebook import tqdm as notebook_tqdm\n",
      "2023-08-20 12:44:16.840508: I tensorflow/tsl/cuda/cudart_stub.cc:28] Could not find cuda drivers on your machine, GPU will not be used.\n",
      "2023-08-20 12:44:16.881496: I tensorflow/tsl/cuda/cudart_stub.cc:28] Could not find cuda drivers on your machine, GPU will not be used.\n",
      "2023-08-20 12:44:16.882559: I tensorflow/core/platform/cpu_feature_guard.cc:182] This TensorFlow binary is optimized to use available CPU instructions in performance-critical operations.\n",
      "To enable the following instructions: AVX2 FMA, in other operations, rebuild TensorFlow with the appropriate compiler flags.\n",
      "2023-08-20 12:44:17.636225: W tensorflow/compiler/tf2tensorrt/utils/py_utils.cc:38] TF-TRT Warning: Could not find TensorRT\n"
     ]
    }
   ],
   "source": [
    "from transformers import pipeline"
   ]
  },
  {
   "cell_type": "code",
   "execution_count": 2,
   "id": "867dcfa6-e4b1-4d40-aabd-aca8d1459019",
   "metadata": {},
   "outputs": [
    {
     "name": "stderr",
     "output_type": "stream",
     "text": [
      "No model was supplied, defaulted to t5-small and revision d769bba (https://huggingface.co/t5-small).\n",
      "Using a pipeline without specifying a model name and revision in production is not recommended.\n",
      "Downloading (…)lve/main/config.json: 100%|█| 1.21k/1.21k [00:00<00:00, 86.0kB/s]\n",
      "Downloading model.safetensors: 100%|█████████| 242M/242M [00:22<00:00, 10.9MB/s]\n",
      "2023-08-20 12:45:54.146500: E tensorflow/compiler/xla/stream_executor/cuda/cuda_driver.cc:268] failed call to cuInit: CUDA_ERROR_NO_DEVICE: no CUDA-capable device is detected\n",
      "All PyTorch model weights were used when initializing TFT5ForConditionalGeneration.\n",
      "\n",
      "All the weights of TFT5ForConditionalGeneration were initialized from the PyTorch model.\n",
      "If your task is similar to the task the model of the checkpoint was trained on, you can already use TFT5ForConditionalGeneration for predictions without further training.\n",
      "Downloading (…)okenizer_config.json: 100%|██| 2.32k/2.32k [00:00<00:00, 527kB/s]\n",
      "Downloading (…)ve/main/spiece.model: 100%|███| 792k/792k [00:00<00:00, 2.17MB/s]\n",
      "Downloading (…)/main/tokenizer.json: 100%|█| 1.39M/1.39M [00:00<00:00, 2.89MB/s]\n"
     ]
    }
   ],
   "source": [
    "summarizer = pipeline(\"summarization\")\n"
   ]
  },
  {
   "cell_type": "code",
   "execution_count": 3,
   "id": "feaf6a40-2390-48fb-9778-33e22b15de6d",
   "metadata": {},
   "outputs": [],
   "source": [
    "text = \"\"\"\n",
    "Those who knew Thiago Menezes Flausino described him as a boy with dreams. These were brutally shattered by several police bullets this week, when the 13-year-old became one of the latest victims of state violence in a Rio de Janeiro favela.\n",
    "\n",
    "“He dreamed of becoming a professional footballer. He’d passed tryouts for a bigger team and was going to start playing on the day he was killed,” said his aunt Nataly Bezerra Flausino, standing outside the evangelical church where her nephew’s funeral was being held on Tuesday, mere months after his baptism.\n",
    "\n",
    "Thiago was the ninth child aged under 14 to die in a shooting this year in Rio, according to the human rights NGO Rio de Paz. A tenth has died since. Most are hit by stray bullets, often during the police raids that routinely paralyse Rio’s low-income communities, such as the one that left 10 dead earlier this month.\n",
    "\n",
    "But it was no stray bullet that killed Thiago in the small hours of Monday morning on the main thoroughfare that cuts through Cidade de Deus (City of God), the favela made globally famous by Fernando Meirelles’s 2002 film. His family say he was executed by military police officers, his only crime being a young Black boy riding on the back of a motorbike in a favela.\n",
    "\n",
    "“My nephew was hit with more than five gunshots. He’s 13, all small and skinny. The bullets went right through his body,” sobbed Flausino.\n",
    "\n",
    "Deaths like Thiago’s are sadly commonplace in a country where police killed more than 6,400 people last year, 83% of them Black. Less than 24 hours earlier, another Black youth died near a Rio favela at the hands of police who chose to shoot first and ask questions later.\n",
    "\n",
    "Still, Thiago’s age has sparked particular outcry. “The death of a 13-year-old adolescent by a state bullet is a grave sign that we have failed as a society,” tweeted Renata Souza, a leftwing lawmaker.\n",
    "\"\"\""
   ]
  },
  {
   "cell_type": "code",
   "execution_count": 4,
   "id": "8ab8cff7-d982-4ef2-9cc7-c15e44de3fed",
   "metadata": {},
   "outputs": [
    {
     "name": "stderr",
     "output_type": "stream",
     "text": [
      "2023-08-20 12:48:05.252284: I tensorflow/compiler/xla/service/service.cc:168] XLA service 0x5613891ac8c0 initialized for platform Host (this does not guarantee that XLA will be used). Devices:\n",
      "2023-08-20 12:48:05.252344: I tensorflow/compiler/xla/service/service.cc:176]   StreamExecutor device (0): Host, Default Version\n",
      "2023-08-20 12:48:06.373635: I tensorflow/compiler/mlir/tensorflow/utils/dump_mlir_util.cc:255] disabling MLIR crash reproducer, set env var `MLIR_CRASH_REPRODUCER_DIRECTORY` to enable.\n",
      "2023-08-20 12:48:09.179592: I ./tensorflow/compiler/jit/device_compiler.h:186] Compiled cluster using XLA!  This line is logged at most once for the lifetime of the process.\n"
     ]
    },
    {
     "data": {
      "text/plain": [
       "[{'summary_text': 'Thiago Menezes Flausino was one of the latest victims of state violence in a Rio de Janeiro favela . the 13-year-old was the ninth child aged under 14 to die in the shooting this year . he was executed by military police officers, his only crime being a young black boy riding on the back of a motorbike .'}]"
      ]
     },
     "execution_count": 4,
     "metadata": {},
     "output_type": "execute_result"
    }
   ],
   "source": [
    "summarizer(text)"
   ]
  },
  {
   "cell_type": "code",
   "execution_count": null,
   "id": "aa2e084c-6b6b-4355-b9d2-e59718cc2580",
   "metadata": {},
   "outputs": [],
   "source": []
  }
 ],
 "metadata": {
  "kernelspec": {
   "display_name": "Python 3 (ipykernel)",
   "language": "python",
   "name": "python3"
  },
  "language_info": {
   "codemirror_mode": {
    "name": "ipython",
    "version": 3
   },
   "file_extension": ".py",
   "mimetype": "text/x-python",
   "name": "python",
   "nbconvert_exporter": "python",
   "pygments_lexer": "ipython3",
   "version": "3.8.12"
  }
 },
 "nbformat": 4,
 "nbformat_minor": 5
}
